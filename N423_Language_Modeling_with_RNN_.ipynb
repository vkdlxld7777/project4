{
  "cells": [
    {
      "cell_type": "markdown",
      "metadata": {
        "id": "x_eOv4kAYb0Z"
      },
      "source": [
        "<img align=\"right\" src=\"https://ds-cs-images.s3.ap-northeast-2.amazonaws.com/Codestates_Fulllogo_Color.png\" width=100>\n",
        "\n",
        "## ***DATA SCIENCE / SECTION 4 / SPRINT 2 / NOTE 3***\n",
        "\n",
        "---\n",
        "\n",
        "# 언어 모델과 RNN(Recurrent Neural Network, 순환 신경망)"
      ]
    },
    {
      "cell_type": "code",
      "execution_count": 32,
      "metadata": {
        "colab": {
          "base_uri": "https://localhost:8080/"
        },
        "id": "NabC-Q8-hiu7",
        "outputId": "656654aa-29c3-433d-a4c3-ccd9bbec4b6f"
      },
      "outputs": [
        {
          "data": {
            "text/plain": [
              "123"
            ]
          },
          "execution_count": 32,
          "metadata": {},
          "output_type": "execute_result"
        }
      ],
      "source": [
        "# 더 알아보기 : 파이썬의 딕셔너리도 비슷한 형태로 작동합니다.\n",
        "# Query('a')를 던지면 딕셔너리에서 동일한 Key('a')를 찾은 뒤 Value(123)을 반환합니다.\n",
        "\n",
        "dict1 = {'a':123, 'b':425, 'c':236, 'd':945}\n",
        "dict1['a']"
      ]
    },
    {
      "cell_type": "markdown",
      "metadata": {
        "id": "uOAShST2e8Ik"
      },
      "source": [
        "### RNN(LSTM) with Attention 코드 실습\n",
        "\n",
        "`Tensorflow` 튜토리얼 코드를 사용하여 Attention이 어떻게 적용되는 지 알아보도록 하겠습니다."
      ]
    },
    {
      "cell_type": "code",
      "execution_count": 33,
      "metadata": {
        "id": "pYnEXYKGewLQ"
      },
      "outputs": [],
      "source": [
        "import tensorflow as tf\n",
        "\n",
        "import matplotlib.pyplot as plt\n",
        "import matplotlib.ticker as ticker\n",
        "from sklearn.model_selection import train_test_split\n",
        "\n",
        "import unicodedata\n",
        "import re\n",
        "import numpy as np\n",
        "import os\n",
        "import io\n",
        "import time"
      ]
    },
    {
      "cell_type": "code",
      "execution_count": 34,
      "metadata": {
        "colab": {
          "base_uri": "https://localhost:8080/"
        },
        "id": "zq5-fp4gfKxz",
        "outputId": "c4495491-8434-455a-b8df-31e7b5510444"
      },
      "outputs": [],
      "source": [
        "# 데이터셋을 다운로드합니다.\n",
        "path_to_zip = tf.keras.utils.get_file(\n",
        "    'spa-eng.zip', origin='http://storage.googleapis.com/download.tensorflow.org/data/spa-eng.zip',\n",
        "    extract=True)\n",
        "\n",
        "path_to_file = os.path.dirname(path_to_zip)+\"/spa-eng/spa.txt\""
      ]
    },
    {
      "cell_type": "code",
      "execution_count": 35,
      "metadata": {
        "id": "NqxC2SgsfPCp"
      },
      "outputs": [],
      "source": [
        "# 유니코드 파일을 아스키코드로 변환하는 함수입니다.\n",
        "def unicode_to_ascii(s):\n",
        "  return ''.join(c for c in unicodedata.normalize('NFD', s)\n",
        "                 if unicodedata.category(c) != 'Mn')\n",
        "\n",
        "\n",
        "def preprocess_sentence(w):\n",
        "  w = unicode_to_ascii(w.lower().strip())\n",
        "\n",
        "  # creating a space between a word and the punctuation following it\n",
        "  # eg: \"he is a boy.\" => \"he is a boy .\"\n",
        "  # Reference:- https://stackoverflow.com/questions/3645931/python-padding-punctuation-with-white-spaces-keeping-punctuation\n",
        "  w = re.sub(r\"([?.!,¿])\", r\" \\1 \", w)\n",
        "  w = re.sub(r'[\" \"]+', \" \", w)\n",
        "\n",
        "  # replacing everything with space except (a-z, A-Z, \".\", \"?\", \"!\", \",\")\n",
        "  w = re.sub(r\"[^a-zA-Z?.!,¿]+\", \" \", w)\n",
        "\n",
        "  w = w.strip()\n",
        "\n",
        "  # adding a start and an end token to the sentence\n",
        "  # so that the model know when to start and stop predicting.\n",
        "  w = '<start> ' + w + ' <end>'\n",
        "  return w"
      ]
    },
    {
      "cell_type": "code",
      "execution_count": 36,
      "metadata": {
        "colab": {
          "base_uri": "https://localhost:8080/"
        },
        "id": "HYpqyskDfQqi",
        "outputId": "2abe4f33-fbef-46a0-8f55-b5d40f7807e4"
      },
      "outputs": [
        {
          "name": "stdout",
          "output_type": "stream",
          "text": [
            "<start> may i borrow this book ? <end>\n",
            "b'<start> \\xc2\\xbf puedo tomar prestado este libro ? <end>'\n"
          ]
        }
      ],
      "source": [
        "en_sentence = u\"May I borrow this book?\"\n",
        "sp_sentence = u\"¿Puedo tomar prestado este libro?\"\n",
        "print(preprocess_sentence(en_sentence))\n",
        "print(preprocess_sentence(sp_sentence).encode('utf-8'))"
      ]
    },
    {
      "cell_type": "code",
      "execution_count": 37,
      "metadata": {
        "id": "7iSyCfNrfSvT"
      },
      "outputs": [],
      "source": [
        "# 1. Remove the accents\n",
        "# 2. Clean the sentences\n",
        "# 3. Return word pairs in the format: [ENGLISH, SPANISH]\n",
        "def create_dataset(path, num_examples):\n",
        "  lines = io.open(path, encoding='UTF-8').read().strip().split('\\n')\n",
        "  \n",
        "  word_pairs = [[preprocess_sentence(w) for w in line.split('\\t')]\n",
        "                for line in lines[:num_examples]]\n",
        "\n",
        "\n",
        "  return zip(*word_pairs)"
      ]
    },
    {
      "cell_type": "code",
      "execution_count": 38,
      "metadata": {
        "colab": {
          "base_uri": "https://localhost:8080/"
        },
        "id": "66wKsoJYfT5p",
        "outputId": "1db2c661-02f7-4e72-e600-60bf8503c004"
      },
      "outputs": [
        {
          "name": "stdout",
          "output_type": "stream",
          "text": [
            "<start> if you want to sound like a native speaker , you must be willing to practice saying the same sentence over and over in the same way that banjo players practice the same phrase over and over until they can play it correctly and at the desired tempo . <end>\n",
            "<start> si quieres sonar como un hablante nativo , debes estar dispuesto a practicar diciendo la misma frase una y otra vez de la misma manera en que un musico de banjo practica el mismo fraseo una y otra vez hasta que lo puedan tocar correctamente y en el tiempo esperado . <end>\n"
          ]
        }
      ],
      "source": [
        "en, sp = create_dataset(path_to_file, None)\n",
        "print(en[-1])\n",
        "print(sp[-1])"
      ]
    },
    {
      "cell_type": "code",
      "execution_count": 39,
      "metadata": {
        "id": "gEBx2J0OfUUu"
      },
      "outputs": [],
      "source": [
        "def tokenize(lang):\n",
        "  lang_tokenizer = tf.keras.preprocessing.text.Tokenizer(filters='')\n",
        "  lang_tokenizer.fit_on_texts(lang)\n",
        "\n",
        "  tensor = lang_tokenizer.texts_to_sequences(lang)\n",
        "\n",
        "  tensor = tf.keras.preprocessing.sequence.pad_sequences(tensor,\n",
        "                                                         padding='post')\n",
        "\n",
        "  return tensor, lang_tokenizer"
      ]
    },
    {
      "cell_type": "code",
      "execution_count": 40,
      "metadata": {
        "id": "xOjGqWpsfVmK"
      },
      "outputs": [],
      "source": [
        "# 2개 언어이기 때문에, tokenizer가 각각의 언어별로 따로 필요합니다.\n",
        "def load_dataset(path, num_examples=None):\n",
        "  # creating cleaned input, output pairs\n",
        "  targ_lang, inp_lang = create_dataset(path, num_examples)\n",
        "  \n",
        "  input_tensor, inp_lang_tokenizer = tokenize(inp_lang)\n",
        "  target_tensor, targ_lang_tokenizer = tokenize(targ_lang)\n",
        "\n",
        "  return input_tensor, target_tensor, inp_lang_tokenizer, targ_lang_tokenizer"
      ]
    },
    {
      "cell_type": "code",
      "execution_count": 41,
      "metadata": {
        "id": "JFJWIindfXJ5"
      },
      "outputs": [],
      "source": [
        "# load할 dataset의 개수를 30000으로 설정\n",
        "num_examples = 30000\n",
        "input_tensor, target_tensor, inp_lang, targ_lang = load_dataset(path_to_file, num_examples)\n",
        "\n",
        "# target과 input의 최대 길이 구하기(문장 최대 길이)\n",
        "max_length_targ, max_length_inp = target_tensor.shape[1], input_tensor.shape[1]"
      ]
    },
    {
      "cell_type": "code",
      "execution_count": 42,
      "metadata": {},
      "outputs": [
        {
          "data": {
            "text/plain": [
              "<keras_preprocessing.text.Tokenizer at 0x19bb30e18e0>"
            ]
          },
          "execution_count": 42,
          "metadata": {},
          "output_type": "execute_result"
        }
      ],
      "source": [
        "targ_lang"
      ]
    },
    {
      "cell_type": "code",
      "execution_count": 43,
      "metadata": {
        "colab": {
          "base_uri": "https://localhost:8080/"
        },
        "id": "x6SFHicNfYa1",
        "outputId": "f439cdcb-0d93-407d-e23b-e6ab0a4dffc1"
      },
      "outputs": [
        {
          "name": "stdout",
          "output_type": "stream",
          "text": [
            "24000 24000 6000 6000\n"
          ]
        }
      ],
      "source": [
        "# 8:2 비율로 train-test split 진행\n",
        "input_tensor_train, input_tensor_val, target_tensor_train, target_tensor_val = train_test_split(input_tensor, target_tensor, test_size=0.2)\n",
        "\n",
        "# 데이터 개수 뽑아보기\n",
        "print(len(input_tensor_train), len(target_tensor_train), len(input_tensor_val), len(target_tensor_val))"
      ]
    },
    {
      "cell_type": "markdown",
      "metadata": {
        "id": "WWEEaYHlfalW"
      },
      "source": [
        "- 구조와 관련된 파라미터 설정하기"
      ]
    },
    {
      "cell_type": "code",
      "execution_count": 44,
      "metadata": {
        "id": "cc3UtRN7fiI-"
      },
      "outputs": [],
      "source": [
        "BUFFER_SIZE = len(input_tensor_train)\n",
        "BATCH_SIZE = 64\n",
        "steps_per_epoch = len(input_tensor_train)//BATCH_SIZE\n",
        "embedding_dim = 256\n",
        "units = 1024\n",
        "vocab_inp_size = len(inp_lang.word_index)+1\n",
        "vocab_tar_size = len(targ_lang.word_index)+1\n",
        "\n",
        "# tf.data.Dataset -> 텐서플로우에서 제공하는 Dataset 클래스입니다.\n",
        "# Dataset 클래스는 배치 구성, 데이터셋 셔플, 윈도우 구현, 변환 함수 적용 등 다양한 기능을 제공합니다.\n",
        "dataset = tf.data.Dataset.from_tensor_slices((input_tensor_train, target_tensor_train)).shuffle(BUFFER_SIZE)\n",
        "dataset = dataset.batch(BATCH_SIZE, drop_remainder=True)"
      ]
    },
    {
      "cell_type": "code",
      "execution_count": 46,
      "metadata": {},
      "outputs": [
        {
          "data": {
            "text/plain": [
              "(<tf.Tensor: shape=(64, 16), dtype=int32, numpy=\n",
              " array([[   1,   10,    4, ...,    0,    0,    0],\n",
              "        [   1,  780,  812, ...,    0,    0,    0],\n",
              "        [   1,    8,  146, ...,    0,    0,    0],\n",
              "        ...,\n",
              "        [   1,   67, 8451, ...,    0,    0,    0],\n",
              "        [   1,   12,  896, ...,    0,    0,    0],\n",
              "        [   1,    6,   11, ...,    0,    0,    0]])>,\n",
              " <tf.Tensor: shape=(64, 11), dtype=int32, numpy=\n",
              " array([[   1,    5, 1456, 3811,    3,    2,    0,    0,    0,    0,    0],\n",
              "        [   1,   16,  108,   36,    3,    2,    0,    0,    0,    0,    0],\n",
              "        [   1,    4,   87,   12, 1022,    3,    2,    0,    0,    0,    0],\n",
              "        [   1,   28,  230,   81,    3,    2,    0,    0,    0,    0,    0],\n",
              "        [   1,   71,    8,   27,    7,    2,    0,    0,    0,    0,    0],\n",
              "        [   1,    4,   76, 2091,    3,    2,    0,    0,    0,    0,    0],\n",
              "        [   1,   14, 4322,   55,   13,  642,    3,    2,    0,    0,    0],\n",
              "        [   1,   10,  169,   65,  160,    5,    3,    2,    0,    0,    0],\n",
              "        [   1,   16,  230,   82,    3,    2,    0,    0,    0,    0,    0],\n",
              "        [   1, 1135,   49,    4,   42,   21,  278,    3,    2,    0,    0],\n",
              "        [   1,    4,  234,    6,  251,   17,    3,    2,    0,    0,    0],\n",
              "        [   1,   16,   38,   40,   57,    3,    2,    0,    0,    0,    0],\n",
              "        [   1,    5,  118,   91,  448,    3,    2,    0,    0,    0,    0],\n",
              "        [   1,   10,  478,    3,    2,    0,    0,    0,    0,    0,    0],\n",
              "        [   1,    4,   29,  100,   13,  467,    3,    2,    0,    0,    0],\n",
              "        [   1,    5,  118,   91,   15,   93,    3,    2,    0,    0,    0],\n",
              "        [   1,    5,  274,  510,  101,    3,    2,    0,    0,    0,    0],\n",
              "        [   1, 1454,    8, 1844,    3,    2,    0,    0,    0,    0,    0],\n",
              "        [   1,    4,   30,   12, 1800,  318,    3,    2,    0,    0,    0],\n",
              "        [   1,    8,   10,   97,    6,   63,    7,    2,    0,    0,    0],\n",
              "        [   1,    4,   47,   15,   56,    6,    3,    2,    0,    0,    0],\n",
              "        [   1,    4,   26,  483,   57,    3,    2,    0,    0,    0,    0],\n",
              "        [   1, 4063,    8,  150,  469,    3,    2,    0,    0,    0,    0],\n",
              "        [   1,    5,    8, 3640,    3,    2,    0,    0,    0,    0,    0],\n",
              "        [   1,   71,   25,    4,  272, 1481,    7,    2,    0,    0,    0],\n",
              "        [   1,   64,   74,   37,    2,    0,    0,    0,    0,    0,    0],\n",
              "        [   1,   70,   29,    9,  387,    3,    2,    0,    0,    0,    0],\n",
              "        [   1,    5,   26,  571,    3,    2,    0,    0,    0,    0,    0],\n",
              "        [   1,   16,   23, 2057,    3,    2,    0,    0,    0,    0,    0],\n",
              "        [   1,    6,   24,  287,    3,    2,    0,    0,    0,    0,    0],\n",
              "        [   1,   88,   10,   50,    3,    2,    0,    0,    0,    0,    0],\n",
              "        [   1,   53,  197,    3,    2,    0,    0,    0,    0,    0,    0],\n",
              "        [   1,    4,   63,   15,  495,  115,    3,    2,    0,    0,    0],\n",
              "        [   1,   21,  168,    8,   44,    9, 2374,    3,    2,    0,    0],\n",
              "        [   1,   27, 1110,   15,   36,    3,    2,    0,    0,    0,    0],\n",
              "        [   1,    6,   38,  106,  202,   10,    3,    2,    0,    0,    0],\n",
              "        [   1,    4,  700,    6,    3,    2,    0,    0,    0,    0,    0],\n",
              "        [   1,    4,   22,  221,   20,    3,    2,    0,    0,    0,    0],\n",
              "        [   1,   27,   87,   12,  272,  687,    3,    2,    0,    0,    0],\n",
              "        [   1,    9,  153,    8,   55, 2128,    3,    2,    0,    0,    0],\n",
              "        [   1,   10,   26,    9, 2586,    3,    2,    0,    0,    0,    0],\n",
              "        [   1,   24,    6,  457,  225,    7,    2,    0,    0,    0,    0],\n",
              "        [   1,   32,   11,  129,   44,    7,    2,    0,    0,    0,    0],\n",
              "        [   1,   16,  636,    9,  394,    3,    2,    0,    0,    0,    0],\n",
              "        [   1,   58,   49,  132,    9,  434,    3,    2,    0,    0,    0],\n",
              "        [   1,    4,   47,   84,    3,    2,    0,    0,    0,    0,    0],\n",
              "        [   1,   14,  175,   14,   26,  626,    3,    2,    0,    0,    0],\n",
              "        [   1,    4,   63,    9,  438,  471,    3,    2,    0,    0,    0],\n",
              "        [   1,   29,    9,  387,    3,    2,    0,    0,    0,    0,    0],\n",
              "        [   1,   27, 1460,   21,  471,    3,    2,    0,    0,    0,    0],\n",
              "        [   1,   46,   11, 2200,  187,    3,    2,    0,    0,    0,    0],\n",
              "        [   1,    4,   18,   48,  823,    3,    2,    0,    0,    0,    0],\n",
              "        [   1,    4,   18,  103,   50,    3,    2,    0,    0,    0,    0],\n",
              "        [   1,   82,   24,    6,   85,  296,    7,    2,    0,    0,    0],\n",
              "        [   1,   19,   38,   22,    3,    2,    0,    0,    0,    0,    0],\n",
              "        [   1,   82,   22,    6,  171,    7,    2,    0,    0,    0,    0],\n",
              "        [   1,   56,  120,    3,    2,    0,    0,    0,    0,    0,    0],\n",
              "        [   1,   25,    6,   73,   17,    7,    2,    0,    0,    0,    0],\n",
              "        [   1,    4,  321,   44,   13, 2218,    3,    2,    0,    0,    0],\n",
              "        [   1,    5,  331,   17,    9,  773,    3,    2,    0,    0,    0],\n",
              "        [   1,   71,   22,    6,   47,   10,    7,    2,    0,    0,    0],\n",
              "        [   1,   20,  501,   76,  437,    3,    2,    0,    0,    0,    0],\n",
              "        [   1,  537,   15,   72,    6,   49,    5,    3,    2,    0,    0],\n",
              "        [   1,   32,  478,   39,    7,    2,    0,    0,    0,    0,    0]])>)"
            ]
          },
          "execution_count": 46,
          "metadata": {},
          "output_type": "execute_result"
        }
      ],
      "source": [
        "next(iter(dataset))"
      ]
    },
    {
      "cell_type": "code",
      "execution_count": null,
      "metadata": {
        "colab": {
          "base_uri": "https://localhost:8080/"
        },
        "id": "wpvSXgBBfi6o",
        "outputId": "0a7660e2-48bf-415c-8afd-a92824de2608"
      },
      "outputs": [
        {
          "data": {
            "text/plain": [
              "(TensorShape([64, 16]), TensorShape([64, 11]))"
            ]
          },
          "execution_count": 28,
          "metadata": {
            "tags": []
          },
          "output_type": "execute_result"
        }
      ],
      "source": [
        "# 첫 번째 배치 뽑아보기\n",
        "# input_batch의 경우, 총 64개 데이터로 이루어져 있고, 1개 문장이 16개 단어로 이루어져 있습니다.\n",
        "example_input_batch, example_target_batch = next(iter(dataset))\n",
        "example_input_batch.shape, example_target_batch.shape"
      ]
    },
    {
      "cell_type": "markdown",
      "metadata": {
        "id": "tZBV4UUBfgkr"
      },
      "source": [
        "- 인코더 구현하기"
      ]
    },
    {
      "cell_type": "code",
      "execution_count": null,
      "metadata": {
        "id": "aE3-rfGWfm1k"
      },
      "outputs": [],
      "source": [
        "class Encoder(tf.keras.Model):\n",
        "  def __init__(self, vocab_size, embedding_dim, enc_units, batch_sz):\n",
        "    super(Encoder, self).__init__()\n",
        "    self.batch_sz = batch_sz\n",
        "    self.enc_units = enc_units\n",
        "    self.embedding = tf.keras.layers.Embedding(vocab_size, embedding_dim)\n",
        "    self.gru = tf.keras.layers.GRU(self.enc_units,\n",
        "                                   return_sequences=True,\n",
        "                                   return_state=True,\n",
        "                                   recurrent_initializer='glorot_uniform')\n",
        "\n",
        "  def call(self, x, hidden):\n",
        "    # |x| = (batch_sz, seq_len)\n",
        "    x = self.embedding(x) # |x| = (batch_sz, seq_len, embedding_dim)\n",
        "    output, state = self.gru(x, initial_state=hidden)\n",
        "    return output, state\n",
        "\n",
        "  def initialize_hidden_state(self):\n",
        "    return tf.zeros((self.batch_sz, self.enc_units))"
      ]
    },
    {
      "cell_type": "code",
      "execution_count": null,
      "metadata": {
        "colab": {
          "base_uri": "https://localhost:8080/"
        },
        "id": "ehWNiQ_ffokz",
        "outputId": "c99a96ce-368c-42f1-aedf-fcb3f42826df"
      },
      "outputs": [
        {
          "name": "stdout",
          "output_type": "stream",
          "text": [
            "Encoder output shape: (batch size, sequence length, units) (64, 16, 1024)\n",
            "Encoder Hidden state shape: (batch size, units) (64, 1024)\n"
          ]
        }
      ],
      "source": [
        "# sample input을 통해 Encoder 레이어 결과값의 shape을 확인해보겠습니다\n",
        "encoder = Encoder(vocab_inp_size, embedding_dim, units, BATCH_SIZE)\n",
        "\n",
        "# sample input\n",
        "sample_hidden = encoder.initialize_hidden_state()\n",
        "sample_output, sample_hidden = encoder(example_input_batch, sample_hidden)\n",
        "print('Encoder output shape: (batch size, sequence length, units)', sample_output.shape)\n",
        "print('Encoder Hidden state shape: (batch size, units)', sample_hidden.shape)"
      ]
    },
    {
      "cell_type": "code",
      "execution_count": null,
      "metadata": {
        "id": "fKG3Y_BafqBJ"
      },
      "outputs": [],
      "source": [
        "class BahdanauAttention(tf.keras.layers.Layer):\n",
        "  def __init__(self, units):\n",
        "    super(BahdanauAttention, self).__init__()\n",
        "    self.W1 = tf.keras.layers.Dense(units)\n",
        "    self.W2 = tf.keras.layers.Dense(units)\n",
        "    self.V = tf.keras.layers.Dense(1)\n",
        "\n",
        "  def call(self, query, values):\n",
        "    # query hidden state shape == (batch_size, hidden size)\n",
        "    # query_with_time_axis shape == (batch_size, 1, hidden size)\n",
        "    # values shape == (batch_size, max_len, hidden size)\n",
        "    # we are doing this to broadcast addition along the time axis to calculate the score\n",
        "    query_with_time_axis = tf.expand_dims(query, 1)\n",
        "\n",
        "    # score shape == (batch_size, max_length, 1)\n",
        "    # we get 1 at the last axis because we are applying score to self.V\n",
        "    # the shape of the tensor before applying self.V is (batch_size, max_length, units)\n",
        "    score = self.V(tf.nn.tanh(\n",
        "        self.W1(query_with_time_axis) + self.W2(values)))\n",
        "    # W1(query_with_time_axis) == (batch_size, 1, units)\n",
        "    # W2(values) == (batch_size, max_len, units)\n",
        "    # W1(query_with_time_axis) + W2(values) == (batch_size, max_len, units)\n",
        "    # V(tf.nn.tanh(W1(query_with_time_axis) + W2(values))) == (batch_size, max_len, 1)\n",
        "\n",
        "    attention_weights = tf.nn.softmax(score, axis=1) # attention_weights == (batch_size, max_length, 1)\n",
        "\n",
        "    context_vector = attention_weights * values # context_vector == (batch_size, max_len, hidden_size)\n",
        "    context_vector = tf.reduce_sum(context_vector, axis=1) # context_vector == (batch_size, hidden_size)\n",
        "\n",
        "    return context_vector, attention_weights"
      ]
    },
    {
      "cell_type": "code",
      "execution_count": null,
      "metadata": {
        "colab": {
          "base_uri": "https://localhost:8080/"
        },
        "id": "xZuX1KCdfr8h",
        "outputId": "45355c4b-542c-4a9c-e05f-9b4c752f9c2a"
      },
      "outputs": [
        {
          "name": "stdout",
          "output_type": "stream",
          "text": [
            "Attention result shape: (batch size, units) (64, 1024)\n",
            "Attention weights shape: (batch_size, sequence_length, 1) (64, 16, 1)\n"
          ]
        }
      ],
      "source": [
        "attention_layer = BahdanauAttention(10)\n",
        "attention_result, attention_weights = attention_layer(sample_hidden, sample_output)\n",
        "\n",
        "print(\"Attention result shape: (batch size, units)\", attention_result.shape)\n",
        "print(\"Attention weights shape: (batch_size, sequence_length, 1)\", attention_weights.shape)"
      ]
    },
    {
      "cell_type": "markdown",
      "metadata": {
        "id": "kjbGgc5Efuor"
      },
      "source": [
        "- **디코더 구현**"
      ]
    },
    {
      "cell_type": "code",
      "execution_count": null,
      "metadata": {
        "id": "6l1Zd0Nkft6G"
      },
      "outputs": [],
      "source": [
        "class Decoder(tf.keras.Model):\n",
        "  def __init__(self, vocab_size, embedding_dim, dec_units, batch_sz):\n",
        "    super(Decoder, self).__init__()\n",
        "    self.batch_sz = batch_sz\n",
        "    self.dec_units = dec_units\n",
        "    self.embedding = tf.keras.layers.Embedding(vocab_size, embedding_dim)\n",
        "    self.gru = tf.keras.layers.GRU(self.dec_units,\n",
        "                                   return_sequences=True,\n",
        "                                   return_state=True,\n",
        "                                   recurrent_initializer='glorot_uniform')\n",
        "    self.fc = tf.keras.layers.Dense(vocab_size)\n",
        "\n",
        "    # used for attention\n",
        "    self.attention = BahdanauAttention(self.dec_units)\n",
        "\n",
        "  def call(self, x, hidden, enc_output):\n",
        "    # x == (batch_size, 1)\n",
        "    # hidden == (batch_size, hidden_size)\n",
        "    # enc_output shape == (batch_size, max_length, hidden_size)\n",
        "\n",
        "    context_vector, attention_weights = self.attention(hidden, enc_output)\n",
        "    # context_vector == (batch_size, hidden_size)\n",
        "    # attention_weights == (batch_size, max_length, 1)\n",
        "\n",
        "    x = self.embedding(x) # x == (batch_size, 1, embedding_dim)\n",
        "\n",
        "    # tf.expand_dims(context_vector, 1) == (batch_size, 1, hidden_size)\n",
        "    # tf.concat([tf.expand_dims(context_vector, 1), x], axis=-1) == (batch_size, 1, embedding_dim+hidden_size)\n",
        "    x = tf.concat([tf.expand_dims(context_vector, 1), x], axis=-1)\n",
        "\n",
        "    # passing the concatenated vector to the GRU\n",
        "    # output == (batch_size, 1, hidden_size)\n",
        "    # state == (batch_size, hidden_size)\n",
        "    output, state = self.gru(x)\n",
        "\n",
        "    \n",
        "    output = tf.reshape(output, (-1, output.shape[2])) # output  == (batch_size * 1, hidden_size)\n",
        "\n",
        "    x = self.fc(output) # x == (batch_size, vocab)\n",
        "\n",
        "    return x, state, attention_weights"
      ]
    },
    {
      "cell_type": "code",
      "execution_count": null,
      "metadata": {
        "colab": {
          "base_uri": "https://localhost:8080/"
        },
        "id": "-GK7-WsOfx4k",
        "outputId": "6befb313-94ca-4612-c8f2-4889253a3d00"
      },
      "outputs": [
        {
          "name": "stdout",
          "output_type": "stream",
          "text": [
            "Decoder output shape: (batch_size, vocab size) (64, 4935)\n"
          ]
        }
      ],
      "source": [
        "decoder = Decoder(vocab_tar_size, embedding_dim, units, BATCH_SIZE)\n",
        "\n",
        "sample_decoder_output, _, _ = decoder(tf.random.uniform((BATCH_SIZE, 1)),\n",
        "                                      sample_hidden, sample_output)\n",
        "\n",
        "print('Decoder output shape: (batch_size, vocab size)', sample_decoder_output.shape)"
      ]
    },
    {
      "cell_type": "code",
      "execution_count": null,
      "metadata": {
        "id": "ABDicArafzt_"
      },
      "outputs": [],
      "source": [
        "optimizer = tf.keras.optimizers.Adam()\n",
        "loss_object = tf.keras.losses.SparseCategoricalCrossentropy(from_logits=True,\n",
        "                                                            reduction='none')\n",
        "\n",
        "\n",
        "def loss_function(real, pred):\n",
        "  mask = tf.math.logical_not(tf.math.equal(real, 0))\n",
        "  loss_ = loss_object(real, pred)\n",
        "\n",
        "  mask = tf.cast(mask, dtype=loss_.dtype)\n",
        "  loss_ *= mask\n",
        "\n",
        "  return tf.reduce_mean(loss_)"
      ]
    },
    {
      "cell_type": "markdown",
      "metadata": {
        "id": "QfYvKnhsmnaH"
      },
      "source": [
        "Teacher Forcing\n",
        "- seq2seq에서 decoder의 예측값이 아닌 실제 정답인 target을 다음 타임 스텝의 입력으로 넣어주는 방법을 Teacher Forcing이라고 합니다.\n",
        "- 장점\n",
        "  - 만약 decoder가 엉뚱한 대답을 내놓더라도, 학습 시 실제 정답을 넣어주기 때문에 seq2seq 학습에 안정성을 더해줍니다.\n",
        "- 단점\n",
        "  - 실제 학습과 추론 코드를 각각 구성해야 합니다.\n",
        "  - 학습과 추론 사이의 괴리가 존재합니다.\n",
        "\n",
        ">❗️  Teacher forcing은 지금 반드시 알아야 하는 개념이 아닙니다. N424에서 다룰 Transformer에서는 더이상 사용되지 않는 방법론이기도 합니다."
      ]
    },
    {
      "cell_type": "code",
      "execution_count": null,
      "metadata": {
        "id": "gTeGGZS1f2M6"
      },
      "outputs": [],
      "source": [
        "@tf.function\n",
        "def train_step(inp, targ, enc_hidden):\n",
        "  loss = 0\n",
        "\n",
        "  with tf.GradientTape() as tape:\n",
        "    enc_output, enc_hidden = encoder(inp, enc_hidden)\n",
        "\n",
        "    dec_hidden = enc_hidden\n",
        "\n",
        "    dec_input = tf.expand_dims([targ_lang.word_index['<start>']] * BATCH_SIZE, 1)\n",
        "\n",
        "    # Teacher forcing - feeding the target as the next input\n",
        "    for t in range(1, targ.shape[1]):\n",
        "      # passing enc_output to the decoder\n",
        "      predictions, dec_hidden, _ = decoder(dec_input, dec_hidden, enc_output)\n",
        "\n",
        "      loss += loss_function(targ[:, t], predictions)\n",
        "\n",
        "      # using teacher forcing\n",
        "      dec_input = tf.expand_dims(targ[:, t], 1)\n",
        "\n",
        "  batch_loss = (loss / int(targ.shape[1]))\n",
        "\n",
        "  variables = encoder.trainable_variables + decoder.trainable_variables\n",
        "\n",
        "  gradients = tape.gradient(loss, variables)\n",
        "\n",
        "  optimizer.apply_gradients(zip(gradients, variables))\n",
        "\n",
        "  return batch_loss"
      ]
    },
    {
      "cell_type": "code",
      "execution_count": null,
      "metadata": {
        "colab": {
          "base_uri": "https://localhost:8080/"
        },
        "id": "20YBdgsYf5gr",
        "outputId": "beadcd4c-60e7-41b7-8e43-9b925a03af86"
      },
      "outputs": [
        {
          "name": "stdout",
          "output_type": "stream",
          "text": [
            "Epoch 1 Batch 0 Loss 4.6026\n",
            "Epoch 1 Batch 100 Loss 2.1524\n",
            "Epoch 1 Batch 200 Loss 1.8952\n",
            "Epoch 1 Batch 300 Loss 1.6539\n",
            "Epoch 1 Loss 2.0383\n",
            "Time taken for 1 epoch 1016.7628138065338 sec\n",
            "\n",
            "Epoch 2 Batch 0 Loss 1.5593\n",
            "Epoch 2 Batch 100 Loss 1.4487\n",
            "Epoch 2 Batch 200 Loss 1.2338\n",
            "Epoch 2 Batch 300 Loss 1.3027\n",
            "Epoch 2 Loss 1.3807\n",
            "Time taken for 1 epoch 992.9955353736877 sec\n",
            "\n",
            "Epoch 3 Batch 0 Loss 1.0330\n",
            "Epoch 3 Batch 100 Loss 1.0200\n",
            "Epoch 3 Batch 200 Loss 0.8721\n",
            "Epoch 3 Batch 300 Loss 0.9157\n",
            "Epoch 3 Loss 0.9653\n",
            "Time taken for 1 epoch 989.1491215229034 sec\n",
            "\n",
            "Epoch 4 Batch 0 Loss 0.6319\n",
            "Epoch 4 Batch 100 Loss 0.6260\n",
            "Epoch 4 Batch 200 Loss 0.5699\n",
            "Epoch 4 Batch 300 Loss 0.7347\n",
            "Epoch 4 Loss 0.6478\n",
            "Time taken for 1 epoch 986.2824234962463 sec\n",
            "\n",
            "Epoch 5 Batch 0 Loss 0.4384\n",
            "Epoch 5 Batch 100 Loss 0.3671\n",
            "Epoch 5 Batch 200 Loss 0.4387\n",
            "Epoch 5 Batch 300 Loss 0.4493\n",
            "Epoch 5 Loss 0.4406\n",
            "Time taken for 1 epoch 998.4929230213165 sec\n",
            "\n",
            "Epoch 6 Batch 0 Loss 0.2667\n",
            "Epoch 6 Batch 100 Loss 0.2406\n",
            "Epoch 6 Batch 200 Loss 0.2759\n",
            "Epoch 6 Batch 300 Loss 0.3238\n",
            "Epoch 6 Loss 0.3082\n",
            "Time taken for 1 epoch 976.1749527454376 sec\n",
            "\n",
            "Epoch 7 Batch 0 Loss 0.2104\n",
            "Epoch 7 Batch 100 Loss 0.2372\n",
            "Epoch 7 Batch 200 Loss 0.2571\n",
            "Epoch 7 Batch 300 Loss 0.2070\n",
            "Epoch 7 Loss 0.2207\n",
            "Time taken for 1 epoch 1002.5251026153564 sec\n",
            "\n",
            "Epoch 8 Batch 0 Loss 0.1459\n",
            "Epoch 8 Batch 100 Loss 0.1691\n",
            "Epoch 8 Batch 200 Loss 0.2185\n",
            "Epoch 8 Batch 300 Loss 0.1537\n",
            "Epoch 8 Loss 0.1652\n",
            "Time taken for 1 epoch 1005.3521428108215 sec\n",
            "\n",
            "Epoch 9 Batch 0 Loss 0.1419\n",
            "Epoch 9 Batch 100 Loss 0.1146\n",
            "Epoch 9 Batch 200 Loss 0.0952\n",
            "Epoch 9 Batch 300 Loss 0.1238\n",
            "Epoch 9 Loss 0.1262\n",
            "Time taken for 1 epoch 985.0161681175232 sec\n",
            "\n",
            "Epoch 10 Batch 0 Loss 0.0667\n",
            "Epoch 10 Batch 100 Loss 0.0909\n",
            "Epoch 10 Batch 200 Loss 0.1094\n",
            "Epoch 10 Batch 300 Loss 0.1214\n",
            "Epoch 10 Loss 0.1024\n",
            "Time taken for 1 epoch 987.7415053844452 sec\n",
            "\n"
          ]
        }
      ],
      "source": [
        "EPOCHS = 10\n",
        "\n",
        "for epoch in range(EPOCHS):\n",
        "  start = time.time()\n",
        "\n",
        "  enc_hidden = encoder.initialize_hidden_state()\n",
        "  total_loss = 0\n",
        "\n",
        "  for (batch, (inp, targ)) in enumerate(dataset.take(steps_per_epoch)):\n",
        "    batch_loss = train_step(inp, targ, enc_hidden)\n",
        "    total_loss += batch_loss\n",
        "\n",
        "    if batch % 100 == 0:\n",
        "      print('Epoch {} Batch {} Loss {:.4f}'.format(epoch + 1,\n",
        "                                                   batch,\n",
        "                                                   batch_loss.numpy()))\n",
        "      \n",
        "  print('Epoch {} Loss {:.4f}'.format(epoch + 1,\n",
        "                                      total_loss / steps_per_epoch))\n",
        "  print('Time taken for 1 epoch {} sec\\n'.format(time.time() - start))"
      ]
    },
    {
      "cell_type": "code",
      "execution_count": null,
      "metadata": {
        "id": "b0EujLQZf8NJ"
      },
      "outputs": [],
      "source": [
        "def evaluate(sentence):\n",
        "  attention_plot = np.zeros((max_length_targ, max_length_inp))\n",
        "\n",
        "  sentence = preprocess_sentence(sentence)\n",
        "\n",
        "  inputs = [inp_lang.word_index[i] for i in sentence.split(' ')]\n",
        "  inputs = tf.keras.preprocessing.sequence.pad_sequences([inputs],\n",
        "                                                         maxlen=max_length_inp,\n",
        "                                                         padding='post')\n",
        "  inputs = tf.convert_to_tensor(inputs)\n",
        "\n",
        "  result = ''\n",
        "\n",
        "  hidden = [tf.zeros((1, units))]\n",
        "  enc_out, enc_hidden = encoder(inputs, hidden)\n",
        "\n",
        "  dec_hidden = enc_hidden\n",
        "  dec_input = tf.expand_dims([targ_lang.word_index['<start>']], 0)\n",
        "\n",
        "  for t in range(max_length_targ):\n",
        "    predictions, dec_hidden, attention_weights = decoder(dec_input,\n",
        "                                                         dec_hidden,\n",
        "                                                         enc_out)\n",
        "\n",
        "    # storing the attention weights to plot later on\n",
        "    attention_weights = tf.reshape(attention_weights, (-1, ))\n",
        "    attention_plot[t] = attention_weights.numpy()\n",
        "\n",
        "    predicted_id = tf.argmax(predictions[0]).numpy()\n",
        "\n",
        "    result += targ_lang.index_word[predicted_id] + ' '\n",
        "\n",
        "    if targ_lang.index_word[predicted_id] == '<end>':\n",
        "      return result, sentence, attention_plot\n",
        "\n",
        "    # the predicted ID is fed back into the model\n",
        "    dec_input = tf.expand_dims([predicted_id], 0)\n",
        "\n",
        "  return result, sentence, attention_plot"
      ]
    },
    {
      "cell_type": "code",
      "execution_count": null,
      "metadata": {
        "id": "uIGrhbkrf-_u"
      },
      "outputs": [],
      "source": [
        "# function for plotting the attention weights\n",
        "def plot_attention(attention, sentence, predicted_sentence):\n",
        "  fig = plt.figure(figsize=(10,10))\n",
        "  ax = fig.add_subplot(1, 1, 1)\n",
        "  ax.matshow(attention, cmap='viridis')\n",
        "\n",
        "  fontdict = {'fontsize': 14}\n",
        "\n",
        "  ax.set_xticklabels([''] + sentence, fontdict=fontdict, rotation=90)\n",
        "  ax.set_yticklabels([''] + predicted_sentence, fontdict=fontdict)\n",
        "\n",
        "  ax.xaxis.set_major_locator(ticker.MultipleLocator(1))\n",
        "  ax.yaxis.set_major_locator(ticker.MultipleLocator(1))\n",
        "\n",
        "  plt.show()"
      ]
    },
    {
      "cell_type": "code",
      "execution_count": null,
      "metadata": {
        "id": "dnamxQ1sgAkK"
      },
      "outputs": [],
      "source": [
        "def translate(sentence):\n",
        "  result, sentence, attention_plot = evaluate(sentence)\n",
        "\n",
        "  print('Input: %s' % (sentence))\n",
        "  print('Predicted translation: {}'.format(result))\n",
        "\n",
        "  attention_plot = attention_plot[:len(result.split(' ')), :len(sentence.split(' '))]\n",
        "  plot_attention(attention_plot, sentence.split(' '), result.split(' '))"
      ]
    },
    {
      "cell_type": "code",
      "execution_count": null,
      "metadata": {
        "colab": {
          "base_uri": "https://localhost:8080/",
          "height": 675
        },
        "id": "nZ6MY4FtgDe7",
        "outputId": "6935584e-d2ef-4ec5-cad5-4d23fb00e20f"
      },
      "outputs": [
        {
          "name": "stdout",
          "output_type": "stream",
          "text": [
            "Input: <start> hace mucho frio aqui . <end>\n",
            "Predicted translation: it s very cold here . <end> \n"
          ]
        },
        {
          "data": {
            "image/png": "[encoded data removed]",
            "text/plain": [
              "<Figure size 720x720 with 1 Axes>"
            ]
          },
          "metadata": {
            "needs_background": "light",
            "tags": []
          },
          "output_type": "display_data"
        }
      ],
      "source": [
        "translate(u'hace mucho frio aqui.')"
      ]
    },
    {
      "cell_type": "code",
      "execution_count": null,
      "metadata": {
        "colab": {
          "base_uri": "https://localhost:8080/",
          "height": 675
        },
        "id": "6V6aKQ4BgFq3",
        "outputId": "039f0a1b-a008-4521-f5f3-ad8f71bc5732"
      },
      "outputs": [
        {
          "name": "stdout",
          "output_type": "stream",
          "text": [
            "Input: <start> esta es mi vida . <end>\n",
            "Predicted translation: this is my life . <end> \n"
          ]
        },
        {
          "data": {
            "image/png": "[encoded data removed]",
            "text/plain": [
              "<Figure size 720x720 with 1 Axes>"
            ]
          },
          "metadata": {
            "needs_background": "light",
            "tags": []
          },
          "output_type": "display_data"
        }
      ],
      "source": [
        "translate(u'esta es mi vida.')"
      ]
    },
    {
      "cell_type": "markdown",
      "metadata": {
        "id": "RyVjn9UeaH0h"
      },
      "source": [
        "## Review"
      ]
    },
    {
      "cell_type": "markdown",
      "metadata": {
        "id": "3zAIH2w0YzRe"
      },
      "source": [
        "- 언어 모델 (Language Model)\n",
        "    - 통계 기반의 언어 모델(Statistical Language Model)\n",
        "    - 신경망 언어 모델(Neural Network Language Model) \n",
        "\n",
        "- 순환 신경망 (Recurrent Neural Network, RNN)\n",
        "    - RNN의 구조\n",
        "    - RNN의 장점과 단점\n",
        "        - 기울기 소실(Gradient Vanishing)\n",
        "\n",
        "- LSTM & GRU\n",
        "    - LSTM\n",
        "        - Cell state\n",
        "    - GRU\n",
        "\n",
        "- Attention\n",
        "    - Attention\n",
        "        - 장기 의존성(Long-term Dependency)\n",
        "    - Query, Key, Vector\n",
        "        - 어떤 벡터가 각 요소에 해당될까요?"
      ]
    }
  ],
  "metadata": {
    "colab": {
      "collapsed_sections": [
        "x_eOv4kAYb0Z",
        "aSdN5u4fJ6ol",
        "gAS2HDrvZKE-",
        "bzJSMs2CSkj4"
      ],
      "name": "N423_Language_Modeling_with_RNN_.ipynb",
      "provenance": []
    },
    "interpreter": {
      "hash": "33e4e08a7b7fa754f13c5b267cb1063e8854a8078d9e75eb423594d4bff0091a"
    },
    "kernelspec": {
      "display_name": "Python 3.9.12 ('tensor')",
      "language": "python",
      "name": "python3"
    },
    "language_info": {
      "codemirror_mode": {
        "name": "ipython",
        "version": 3
      },
      "file_extension": ".py",
      "mimetype": "text/x-python",
      "name": "python",
      "nbconvert_exporter": "python",
      "pygments_lexer": "ipython3",
      "version": "3.9.12"
    }
  },
  "nbformat": 4,
  "nbformat_minor": 0
}
